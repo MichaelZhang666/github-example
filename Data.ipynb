{
 "cells": [
  {
   "cell_type": "markdown",
   "metadata": {},
   "source": [
    "# Data"
   ]
  },
  {
   "cell_type": "markdown",
   "metadata": {},
   "source": [
    "Based on definition of our problem, factors that will influence our decission are:\n",
    "\n",
    "- number of existing venues in the neighborhood (any type of restaurant)\n",
    "- number of and nearby restaurants in the neighborhood, if any\n",
    "- distance of neighborhood from city center\n",
    "- Latitude,\tLongitude of the nearby neighborhood\n",
    "We decided to use regularly spaced grid of locations, centered around city center, to define our neighborhoods.\n",
    "\n",
    "Following data sources will be needed to extract/generate the required information:\n",
    "\n",
    "- centers of candidate areas will be generated algorithmically and approximate addresses of centers of those areas will be obtained using wikipeida data\n",
    "- number of restaurants and their type and location in every neighborhood will be obtained using Foursquare API\n",
    "- coordinate of Berlin center will be obtained using Google Maps API geocoding of well known North York location"
   ]
  }
 ],
 "metadata": {
  "kernelspec": {
   "display_name": "Python 3",
   "language": "python",
   "name": "python3"
  },
  "language_info": {
   "codemirror_mode": {
    "name": "ipython",
    "version": 3
   },
   "file_extension": ".py",
   "mimetype": "text/x-python",
   "name": "python",
   "nbconvert_exporter": "python",
   "pygments_lexer": "ipython3",
   "version": "3.7.6"
  }
 },
 "nbformat": 4,
 "nbformat_minor": 4
}
